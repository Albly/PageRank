{
 "cells": [
  {
   "cell_type": "code",
   "execution_count": 12,
   "source": [
    "import numpy as np\n",
    "import plotly.figure_factory as ff\n",
    "import seaborn as sns\n",
    "\n",
    "from PageRankSolver.pretty_print import matprint, plot_matrix\n",
    "import PageRankSolver.dummy_solver\n"
   ],
   "outputs": [],
   "metadata": {}
  },
  {
   "cell_type": "code",
   "execution_count": 13,
   "source": [
    "A = np.array([\n",
    "              [0 , 0, 1, 0.5], \n",
    "              [1/3, 0, 0, 0,],\n",
    "              [1/3, 1/2, 0, 1/2],\n",
    "              [1/3, 1/2, 0, 0]\n",
    "              ])\n",
    "matprint(A, '.2f')"
   ],
   "outputs": [
    {
     "output_type": "stream",
     "name": "stdout",
     "text": [
      "0.00  0.00  1.00  0.50  \n",
      "0.33  0.00  0.00  0.00  \n",
      "0.33  0.50  0.00  0.50  \n",
      "0.33  0.50  0.00  0.00  \n"
     ]
    }
   ],
   "metadata": {}
  },
  {
   "cell_type": "code",
   "execution_count": null,
   "source": [],
   "outputs": [],
   "metadata": {}
  }
 ],
 "metadata": {
  "orig_nbformat": 4,
  "language_info": {
   "name": "python",
   "version": "3.7.10",
   "mimetype": "text/x-python",
   "codemirror_mode": {
    "name": "ipython",
    "version": 3
   },
   "pygments_lexer": "ipython3",
   "nbconvert_exporter": "python",
   "file_extension": ".py"
  },
  "kernelspec": {
   "name": "python3",
   "display_name": "Python 3.7.10 64-bit ('py37': conda)"
  },
  "interpreter": {
   "hash": "eb265fd167f989f92e6fc287daaeaeccb58fc1252a24ec52fb423307a5bd7647"
  }
 },
 "nbformat": 4,
 "nbformat_minor": 2
}